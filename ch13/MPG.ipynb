{
 "cells": [
  {
   "cell_type": "code",
   "execution_count": 132,
   "metadata": {
    "collapsed": true,
    "ExecuteTime": {
     "end_time": "2023-07-02T22:10:18.826947Z",
     "start_time": "2023-07-02T22:10:18.816691Z"
    }
   },
   "outputs": [],
   "source": [
    "import pandas as pd\n",
    "import torch\n",
    "from torch import nn"
   ]
  },
  {
   "cell_type": "code",
   "execution_count": 133,
   "outputs": [
    {
     "data": {
      "text/plain": "      MPG  Cylinders  Displacement  Horsepower  Weight  Acceleration  \\\n393  27.0          4         140.0        86.0  2790.0          15.6   \n394  44.0          4          97.0        52.0  2130.0          24.6   \n395  32.0          4         135.0        84.0  2295.0          11.6   \n396  28.0          4         120.0        79.0  2625.0          18.6   \n397  31.0          4         119.0        82.0  2720.0          19.4   \n\n     Model Year  Origin  \n393          82       1  \n394          82       2  \n395          82       1  \n396          82       1  \n397          82       1  ",
      "text/html": "<div>\n<style scoped>\n    .dataframe tbody tr th:only-of-type {\n        vertical-align: middle;\n    }\n\n    .dataframe tbody tr th {\n        vertical-align: top;\n    }\n\n    .dataframe thead th {\n        text-align: right;\n    }\n</style>\n<table border=\"1\" class=\"dataframe\">\n  <thead>\n    <tr style=\"text-align: right;\">\n      <th></th>\n      <th>MPG</th>\n      <th>Cylinders</th>\n      <th>Displacement</th>\n      <th>Horsepower</th>\n      <th>Weight</th>\n      <th>Acceleration</th>\n      <th>Model Year</th>\n      <th>Origin</th>\n    </tr>\n  </thead>\n  <tbody>\n    <tr>\n      <th>393</th>\n      <td>27.0</td>\n      <td>4</td>\n      <td>140.0</td>\n      <td>86.0</td>\n      <td>2790.0</td>\n      <td>15.6</td>\n      <td>82</td>\n      <td>1</td>\n    </tr>\n    <tr>\n      <th>394</th>\n      <td>44.0</td>\n      <td>4</td>\n      <td>97.0</td>\n      <td>52.0</td>\n      <td>2130.0</td>\n      <td>24.6</td>\n      <td>82</td>\n      <td>2</td>\n    </tr>\n    <tr>\n      <th>395</th>\n      <td>32.0</td>\n      <td>4</td>\n      <td>135.0</td>\n      <td>84.0</td>\n      <td>2295.0</td>\n      <td>11.6</td>\n      <td>82</td>\n      <td>1</td>\n    </tr>\n    <tr>\n      <th>396</th>\n      <td>28.0</td>\n      <td>4</td>\n      <td>120.0</td>\n      <td>79.0</td>\n      <td>2625.0</td>\n      <td>18.6</td>\n      <td>82</td>\n      <td>1</td>\n    </tr>\n    <tr>\n      <th>397</th>\n      <td>31.0</td>\n      <td>4</td>\n      <td>119.0</td>\n      <td>82.0</td>\n      <td>2720.0</td>\n      <td>19.4</td>\n      <td>82</td>\n      <td>1</td>\n    </tr>\n  </tbody>\n</table>\n</div>"
     },
     "execution_count": 133,
     "metadata": {},
     "output_type": "execute_result"
    }
   ],
   "source": [
    "url = 'http://archive.ics.uci.edu/ml/machine-learning-databases/auto-mpg/auto-mpg.data'\n",
    "column_names = ['MPG', 'Cylinders', 'Displacement', 'Horsepower', 'Weight',\n",
    "                'Acceleration', 'Model Year', 'Origin']\n",
    "df = pd.read_csv(url, names=column_names, na_values='?', comment='\\t', sep=' ', skipinitialspace=True)\n",
    "df.tail()"
   ],
   "metadata": {
    "collapsed": false,
    "ExecuteTime": {
     "end_time": "2023-07-02T22:10:19.123795Z",
     "start_time": "2023-07-02T22:10:18.821059Z"
    }
   }
  },
  {
   "cell_type": "code",
   "execution_count": 134,
   "outputs": [
    {
     "name": "stdout",
     "output_type": "stream",
     "text": [
      "MPG             0\n",
      "Cylinders       0\n",
      "Displacement    0\n",
      "Horsepower      6\n",
      "Weight          0\n",
      "Acceleration    0\n",
      "Model Year      0\n",
      "Origin          0\n",
      "dtype: int64\n"
     ]
    }
   ],
   "source": [
    "df.dropna()\n",
    "df = df.reset_index(drop=True)\n",
    "print(df.isna().sum())"
   ],
   "metadata": {
    "collapsed": false,
    "ExecuteTime": {
     "end_time": "2023-07-02T22:10:19.130088Z",
     "start_time": "2023-07-02T22:10:19.127457Z"
    }
   }
  },
  {
   "cell_type": "code",
   "execution_count": 135,
   "outputs": [
    {
     "data": {
      "text/plain": "              count         mean         std     min      25%     50%  \\\nMPG           318.0    23.583962    7.890750     9.0    17.50    23.0   \nCylinders     318.0     5.418239    1.682508     3.0     4.00     4.0   \nDisplacement  318.0   191.128931  102.212399    70.0   101.75   146.0   \nHorsepower    312.0   103.317308   37.839804    46.0    75.00    92.0   \nWeight        318.0  2952.047170  836.500568  1613.0  2220.75  2801.0   \nAcceleration  318.0    15.717610    2.751966     8.5    14.00    15.5   \nModel Year    318.0    75.921384    3.683467    70.0    73.00    76.0   \nOrigin        318.0     1.588050    0.808150     1.0     1.00     1.0   \n\n                  75%     max  \nMPG             29.80    46.6  \nCylinders        6.00     8.0  \nDisplacement   258.00   455.0  \nHorsepower     122.75   230.0  \nWeight        3533.75  5140.0  \nAcceleration    17.40    24.8  \nModel Year      79.00    82.0  \nOrigin           2.00     3.0  ",
      "text/html": "<div>\n<style scoped>\n    .dataframe tbody tr th:only-of-type {\n        vertical-align: middle;\n    }\n\n    .dataframe tbody tr th {\n        vertical-align: top;\n    }\n\n    .dataframe thead th {\n        text-align: right;\n    }\n</style>\n<table border=\"1\" class=\"dataframe\">\n  <thead>\n    <tr style=\"text-align: right;\">\n      <th></th>\n      <th>count</th>\n      <th>mean</th>\n      <th>std</th>\n      <th>min</th>\n      <th>25%</th>\n      <th>50%</th>\n      <th>75%</th>\n      <th>max</th>\n    </tr>\n  </thead>\n  <tbody>\n    <tr>\n      <th>MPG</th>\n      <td>318.0</td>\n      <td>23.583962</td>\n      <td>7.890750</td>\n      <td>9.0</td>\n      <td>17.50</td>\n      <td>23.0</td>\n      <td>29.80</td>\n      <td>46.6</td>\n    </tr>\n    <tr>\n      <th>Cylinders</th>\n      <td>318.0</td>\n      <td>5.418239</td>\n      <td>1.682508</td>\n      <td>3.0</td>\n      <td>4.00</td>\n      <td>4.0</td>\n      <td>6.00</td>\n      <td>8.0</td>\n    </tr>\n    <tr>\n      <th>Displacement</th>\n      <td>318.0</td>\n      <td>191.128931</td>\n      <td>102.212399</td>\n      <td>70.0</td>\n      <td>101.75</td>\n      <td>146.0</td>\n      <td>258.00</td>\n      <td>455.0</td>\n    </tr>\n    <tr>\n      <th>Horsepower</th>\n      <td>312.0</td>\n      <td>103.317308</td>\n      <td>37.839804</td>\n      <td>46.0</td>\n      <td>75.00</td>\n      <td>92.0</td>\n      <td>122.75</td>\n      <td>230.0</td>\n    </tr>\n    <tr>\n      <th>Weight</th>\n      <td>318.0</td>\n      <td>2952.047170</td>\n      <td>836.500568</td>\n      <td>1613.0</td>\n      <td>2220.75</td>\n      <td>2801.0</td>\n      <td>3533.75</td>\n      <td>5140.0</td>\n    </tr>\n    <tr>\n      <th>Acceleration</th>\n      <td>318.0</td>\n      <td>15.717610</td>\n      <td>2.751966</td>\n      <td>8.5</td>\n      <td>14.00</td>\n      <td>15.5</td>\n      <td>17.40</td>\n      <td>24.8</td>\n    </tr>\n    <tr>\n      <th>Model Year</th>\n      <td>318.0</td>\n      <td>75.921384</td>\n      <td>3.683467</td>\n      <td>70.0</td>\n      <td>73.00</td>\n      <td>76.0</td>\n      <td>79.00</td>\n      <td>82.0</td>\n    </tr>\n    <tr>\n      <th>Origin</th>\n      <td>318.0</td>\n      <td>1.588050</td>\n      <td>0.808150</td>\n      <td>1.0</td>\n      <td>1.00</td>\n      <td>1.0</td>\n      <td>2.00</td>\n      <td>3.0</td>\n    </tr>\n  </tbody>\n</table>\n</div>"
     },
     "execution_count": 135,
     "metadata": {},
     "output_type": "execute_result"
    }
   ],
   "source": [
    "\n",
    "# train/test split\n",
    "from sklearn.model_selection import train_test_split\n",
    "\n",
    "df_train, df_test = train_test_split(df, train_size=.8, random_state=1)\n",
    "\n",
    "train_stats = df_train.describe().transpose()\n",
    "train_stats"
   ],
   "metadata": {
    "collapsed": false,
    "ExecuteTime": {
     "end_time": "2023-07-02T22:10:19.166321Z",
     "start_time": "2023-07-02T22:10:19.129429Z"
    }
   }
  },
  {
   "cell_type": "code",
   "execution_count": 136,
   "outputs": [
    {
     "data": {
      "text/plain": "      MPG  Cylinders  Displacement  Horsepower    Weight  Acceleration  \\\n393  27.0  -0.842931     -0.500222   -0.457648 -0.193720     -0.042737   \n255  25.1  -0.842931     -0.500222   -0.404794 -0.277402     -0.115412   \n72   15.0   1.534472      1.104280    1.233693  1.123673     -1.169204   \n235  26.0  -0.842931     -0.920915   -0.748347 -0.821335      0.902042   \n37   18.0   0.345770      0.399864   -0.087667  0.401617     -0.079074   \n\n     Model Year  Origin  \n393          82       1  \n255          78       1  \n72           72       1  \n235          77       3  \n37           71       1  ",
      "text/html": "<div>\n<style scoped>\n    .dataframe tbody tr th:only-of-type {\n        vertical-align: middle;\n    }\n\n    .dataframe tbody tr th {\n        vertical-align: top;\n    }\n\n    .dataframe thead th {\n        text-align: right;\n    }\n</style>\n<table border=\"1\" class=\"dataframe\">\n  <thead>\n    <tr style=\"text-align: right;\">\n      <th></th>\n      <th>MPG</th>\n      <th>Cylinders</th>\n      <th>Displacement</th>\n      <th>Horsepower</th>\n      <th>Weight</th>\n      <th>Acceleration</th>\n      <th>Model Year</th>\n      <th>Origin</th>\n    </tr>\n  </thead>\n  <tbody>\n    <tr>\n      <th>393</th>\n      <td>27.0</td>\n      <td>-0.842931</td>\n      <td>-0.500222</td>\n      <td>-0.457648</td>\n      <td>-0.193720</td>\n      <td>-0.042737</td>\n      <td>82</td>\n      <td>1</td>\n    </tr>\n    <tr>\n      <th>255</th>\n      <td>25.1</td>\n      <td>-0.842931</td>\n      <td>-0.500222</td>\n      <td>-0.404794</td>\n      <td>-0.277402</td>\n      <td>-0.115412</td>\n      <td>78</td>\n      <td>1</td>\n    </tr>\n    <tr>\n      <th>72</th>\n      <td>15.0</td>\n      <td>1.534472</td>\n      <td>1.104280</td>\n      <td>1.233693</td>\n      <td>1.123673</td>\n      <td>-1.169204</td>\n      <td>72</td>\n      <td>1</td>\n    </tr>\n    <tr>\n      <th>235</th>\n      <td>26.0</td>\n      <td>-0.842931</td>\n      <td>-0.920915</td>\n      <td>-0.748347</td>\n      <td>-0.821335</td>\n      <td>0.902042</td>\n      <td>77</td>\n      <td>3</td>\n    </tr>\n    <tr>\n      <th>37</th>\n      <td>18.0</td>\n      <td>0.345770</td>\n      <td>0.399864</td>\n      <td>-0.087667</td>\n      <td>0.401617</td>\n      <td>-0.079074</td>\n      <td>71</td>\n      <td>1</td>\n    </tr>\n  </tbody>\n</table>\n</div>"
     },
     "execution_count": 136,
     "metadata": {},
     "output_type": "execute_result"
    }
   ],
   "source": [
    "\n",
    "numeric_column_names = ['Cylinders', 'Displacement', 'Horsepower', 'Weight', 'Acceleration',]\n",
    "\n",
    "df_train_norm, df_test_norm = df_train.copy(), df_test.copy()\n",
    "\n",
    "for col_name in numeric_column_names:\n",
    "    mean = train_stats.loc[col_name, 'mean']\n",
    "    std = train_stats.loc[col_name, 'std']\n",
    "    df_train_norm.loc[:, col_name] = (df_train_norm.loc[:, col_name] - mean) / std\n",
    "    df_test_norm.loc[:, col_name] = (df_test_norm.loc[:, col_name] - mean) / std\n",
    "\n",
    "df_train_norm.tail()"
   ],
   "metadata": {
    "collapsed": false,
    "ExecuteTime": {
     "end_time": "2023-07-02T22:10:19.181648Z",
     "start_time": "2023-07-02T22:10:19.151361Z"
    }
   }
  },
  {
   "cell_type": "code",
   "execution_count": 137,
   "outputs": [],
   "source": [
    "boundaries = torch.tensor([73, 76, 79])\n",
    "v = torch.tensor(df_train_norm['Model Year'].values)\n",
    "df_train_norm['Model Year Bocketed'] = torch.bucketize(v, boundaries, right=True)\n",
    "v = torch.tensor(df_test_norm['Model Year'].values)\n",
    "df_test_norm['Model Year Bocketed'] = torch.bucketize(v, boundaries, right=True)\n",
    "numeric_column_names.append('Model Year Bocketed')"
   ],
   "metadata": {
    "collapsed": false,
    "ExecuteTime": {
     "end_time": "2023-07-02T22:10:19.184583Z",
     "start_time": "2023-07-02T22:10:19.162126Z"
    }
   }
  },
  {
   "cell_type": "code",
   "execution_count": 138,
   "outputs": [],
   "source": [
    "# one hot encoding\n",
    "from torch.nn.functional import one_hot\n",
    "\n",
    "total_origin = len(set(df_train_norm['Origin']))\n",
    "\n",
    "origin_encoded = one_hot(torch.from_numpy(df_train_norm['Origin'].values) % total_origin)\n",
    "x_train_numeric = torch.tensor(df_train_norm[numeric_column_names].values)\n",
    "x_train = torch.cat([x_train_numeric, origin_encoded], 1).float()\n",
    "\n",
    "origin_encoded = one_hot(torch.from_numpy(df_test_norm['Origin'].values) % total_origin)\n",
    "x_test_numeric = torch.tensor(df_test_norm[numeric_column_names].values)\n",
    "x_test = torch.cat([x_test_numeric, origin_encoded], 1).float()\n"
   ],
   "metadata": {
    "collapsed": false,
    "ExecuteTime": {
     "end_time": "2023-07-02T22:10:19.184792Z",
     "start_time": "2023-07-02T22:10:19.169181Z"
    }
   }
  },
  {
   "cell_type": "code",
   "execution_count": 139,
   "outputs": [],
   "source": [
    "y_train = torch.tensor(df_train_norm['MPG'].values).float()\n",
    "y_test = torch.tensor(df_test_norm['MPG'].values).float()\n"
   ],
   "metadata": {
    "collapsed": false,
    "ExecuteTime": {
     "end_time": "2023-07-02T22:10:19.184836Z",
     "start_time": "2023-07-02T22:10:19.171471Z"
    }
   }
  },
  {
   "cell_type": "code",
   "execution_count": 140,
   "outputs": [],
   "source": [
    "from torch.utils.data import TensorDataset, DataLoader\n",
    "\n",
    "train_ds = TensorDataset(x_train, y_train)\n",
    "batch_size = 8\n",
    "torch.manual_seed(1)\n",
    "train_dl = DataLoader(train_ds, batch_size, shuffle=True)\n"
   ],
   "metadata": {
    "collapsed": false,
    "ExecuteTime": {
     "end_time": "2023-07-02T22:10:19.184877Z",
     "start_time": "2023-07-02T22:10:19.174424Z"
    }
   }
  },
  {
   "cell_type": "code",
   "execution_count": 141,
   "outputs": [
    {
     "data": {
      "text/plain": "Sequential(\n  (0): Linear(in_features=9, out_features=8, bias=True)\n  (1): ReLU()\n  (2): Linear(in_features=8, out_features=4, bias=True)\n  (3): ReLU()\n  (4): Linear(in_features=4, out_features=1, bias=True)\n)"
     },
     "execution_count": 141,
     "metadata": {},
     "output_type": "execute_result"
    }
   ],
   "source": [
    "hidden_units = [8, 4]\n",
    "input_size = x_train.shape[1]\n",
    "all_layers = []\n",
    "\n",
    "for hidden_unit in hidden_units:\n",
    "    layer = nn.Linear(input_size, hidden_unit)\n",
    "    all_layers.append(layer)\n",
    "    all_layers.append(nn.ReLU())\n",
    "    input_size = hidden_unit\n",
    "\n",
    "all_layers.append(nn.Linear(hidden_units[-1], 1))\n",
    "model = nn.Sequential(*all_layers)\n",
    "model"
   ],
   "metadata": {
    "collapsed": false,
    "ExecuteTime": {
     "end_time": "2023-07-02T22:10:19.185025Z",
     "start_time": "2023-07-02T22:10:19.178879Z"
    }
   }
  },
  {
   "cell_type": "code",
   "execution_count": 142,
   "outputs": [],
   "source": [
    "loss_fn = nn.MSELoss()\n",
    "optimizer = torch.optim.SGD(model.parameters(), lr=0.001)\n",
    "\n"
   ],
   "metadata": {
    "collapsed": false,
    "ExecuteTime": {
     "end_time": "2023-07-02T22:10:19.185124Z",
     "start_time": "2023-07-02T22:10:19.183749Z"
    }
   }
  },
  {
   "cell_type": "code",
   "execution_count": 143,
   "outputs": [
    {
     "name": "stdout",
     "output_type": "stream",
     "text": [
      "Epoch 0  Loss nan\n",
      "Epoch 20  Loss nan\n",
      "Epoch 40  Loss nan\n",
      "Epoch 60  Loss nan\n",
      "Epoch 80  Loss nan\n",
      "Epoch 100  Loss nan\n",
      "Epoch 120  Loss nan\n",
      "Epoch 140  Loss nan\n",
      "Epoch 160  Loss nan\n",
      "Epoch 180  Loss nan\n"
     ]
    }
   ],
   "source": [
    "# train\n",
    "\n",
    "torch.manual_seed(1)\n",
    "num_epochs = 200\n",
    "log_epochs = 20\n",
    "\n",
    "for epoch in range(num_epochs):\n",
    "    loss_hist_train = 0\n",
    "    for x_batch, y_batch in train_dl:\n",
    "        pred = model(x_batch)[:, 0]\n",
    "        loss = loss_fn(pred, y_batch)\n",
    "        loss.backward()\n",
    "        optimizer.step()\n",
    "        optimizer.zero_grad()\n",
    "        loss_hist_train += loss.item()\n",
    "\n",
    "    if epoch % log_epochs == 0:\n",
    "        print(f'Epoch {epoch}  Loss {loss_hist_train/len(train_dl):.4f}')\n",
    "\n"
   ],
   "metadata": {
    "collapsed": false,
    "ExecuteTime": {
     "end_time": "2023-07-02T22:10:20.748426Z",
     "start_time": "2023-07-02T22:10:19.186788Z"
    }
   }
  },
  {
   "cell_type": "code",
   "execution_count": 143,
   "outputs": [],
   "source": [],
   "metadata": {
    "collapsed": false,
    "ExecuteTime": {
     "end_time": "2023-07-02T22:10:20.750020Z",
     "start_time": "2023-07-02T22:10:20.748825Z"
    }
   }
  }
 ],
 "metadata": {
  "kernelspec": {
   "display_name": "Python 3",
   "language": "python",
   "name": "python3"
  },
  "language_info": {
   "codemirror_mode": {
    "name": "ipython",
    "version": 2
   },
   "file_extension": ".py",
   "mimetype": "text/x-python",
   "name": "python",
   "nbconvert_exporter": "python",
   "pygments_lexer": "ipython2",
   "version": "2.7.6"
  }
 },
 "nbformat": 4,
 "nbformat_minor": 0
}
